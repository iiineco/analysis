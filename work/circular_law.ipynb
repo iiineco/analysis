{
  "nbformat": 4,
  "nbformat_minor": 0,
  "metadata": {
    "colab": {
      "name": "circular_law.ipynb",
      "provenance": [],
      "collapsed_sections": [],
      "toc_visible": true,
      "authorship_tag": "ABX9TyP/AWXpAgH/HraIFXT6b9jN",
      "include_colab_link": true
    },
    "kernelspec": {
      "name": "python3",
      "display_name": "Python 3"
    }
  },
  "cells": [
    {
      "cell_type": "markdown",
      "metadata": {
        "id": "view-in-github",
        "colab_type": "text"
      },
      "source": [
        "<a href=\"https://colab.research.google.com/github/iiineco/analysis/blob/master/matrix/decomposition/circular_law.ipynb\" target=\"_parent\"><img src=\"https://colab.research.google.com/assets/colab-badge.svg\" alt=\"Open In Colab\"/></a>"
      ]
    },
    {
      "cell_type": "markdown",
      "metadata": {
        "id": "qCnuOafrdAyL",
        "colab_type": "text"
      },
      "source": [
        "Circular law\n",
        "=============\n",
        "\n",
        "n × n ランダム行列における固有値の分布は、円状に一様に分布するという確率論。\n",
        "\n",
        "python を利用して Circular law を確認してみる。\n",
        "\n",
        "参考：https://en.wikipedia.org/wiki/Circular_law\n",
        "\n"
      ]
    },
    {
      "cell_type": "code",
      "metadata": {
        "id": "mHTdPMWIZw1n",
        "colab_type": "code",
        "colab": {}
      },
      "source": [
        "import numpy as np\n",
        "import matplotlib.pyplot as plt\n",
        "\n",
        "def plt_circular_law(size):\n",
        "    # [n × n] 行列作成\n",
        "    n = size\n",
        "    a_vec = np.random.rand(n*n) / np.sqrt(n)\n",
        "    a_matrix= np.reshape(a_vec, (n, n))\n",
        "\n",
        "    # 固有値 [1 × n]、固有ベクトル [n × n] を取得\n",
        "    det, vec = np.linalg.eig(a_matrix)\n",
        "\n",
        "    # diag: 固有値配列（det）の各要素を対角要素に持つ対角行列作成\n",
        "    d_matrix = np.diag(det)\n",
        "\n",
        "    # x 軸に実部、y 軸に虚部として表示\n",
        "    plt.plot(d_matrix.real, d_matrix.imag, \"b.\")\n",
        "    # グラフの縦横比を同じに設定\n",
        "    plt.axis(\"equal\")\n",
        "    # グラフの表示範囲指定\n",
        "    plt.xlim(-1, 1)\n",
        "    plt.ylim(-1, 1)\n",
        "    plt.show()\n",
        "\n"
      ],
      "execution_count": 0,
      "outputs": []
    },
    {
      "cell_type": "code",
      "metadata": {
        "id": "2uPE8Z1xgHtm",
        "colab_type": "code",
        "outputId": "62a5c6ea-fe90-4bd6-e37e-129e48b99a81",
        "colab": {
          "base_uri": "https://localhost:8080/",
          "height": 265
        }
      },
      "source": [
        "\n",
        "\n",
        "# ランダム行列 [5 × 5] における固有値の場合\n",
        "plt_circular_law(5)"
      ],
      "execution_count": 2,
      "outputs": [
        {
          "output_type": "display_data",
          "data": {
            "image/png": "[encoded data removed]",
            "text/plain": [
              "<Figure size 432x288 with 1 Axes>"
            ]
          },
          "metadata": {
            "tags": [],
            "needs_background": "light"
          }
        }
      ]
    },
    {
      "cell_type": "code",
      "metadata": {
        "id": "7Bv4HHBSZ_Nl",
        "colab_type": "code",
        "outputId": "52062eb3-8cd6-4c93-c31a-49c3101f9894",
        "colab": {
          "base_uri": "https://localhost:8080/",
          "height": 265
        }
      },
      "source": [
        "# ランダム行列 [10 × 10] における固有値の場合\n",
        "plt_circular_law(10)"
      ],
      "execution_count": 3,
      "outputs": [
        {
          "output_type": "display_data",
          "data": {
            "image/png": "[encoded data removed]",
            "text/plain": [
              "<Figure size 432x288 with 1 Axes>"
            ]
          },
          "metadata": {
            "tags": [],
            "needs_background": "light"
          }
        }
      ]
    },
    {
      "cell_type": "code",
      "metadata": {
        "id": "3KU4o20_1rRd",
        "colab_type": "code",
        "outputId": "06d2c4a3-5d40-4e3b-e909-21476caecafd",
        "colab": {
          "base_uri": "https://localhost:8080/",
          "height": 269
        }
      },
      "source": [
        "# ランダム行列 [100 × 100] における固有値の場合\n",
        "plt_circular_law(100)"
      ],
      "execution_count": 4,
      "outputs": [
        {
          "output_type": "display_data",
          "data": {
            "image/png": "[encoded data removed]",
            "text/plain": [
              "<Figure size 432x288 with 1 Axes>"
            ]
          },
          "metadata": {
            "tags": [],
            "needs_background": "light"
          }
        }
      ]
    }
  ]
}
